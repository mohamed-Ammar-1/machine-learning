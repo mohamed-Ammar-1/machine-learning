{
  "cells": [
    {
      "cell_type": "markdown",
      "metadata": {
        "id": "Rm7IIC-GcPzL"
      },
      "source": [
        "# Simple Linear Regression\n",
        "\n",
        "The goal of this project was to build a linear regression model from the ground up using numpy."
      ]
    },
    {
      "cell_type": "code",
      "execution_count": null,
      "metadata": {
        "collapsed": true,
        "id": "bSX_VhLgcPzV"
      },
      "outputs": [],
      "source": [
        "%matplotlib inline\n",
        "\n",
        "#imports\n",
        "import numpy as np\n",
        "\n",
        "import pandas as pd\n",
        "import matplotlib.pyplot as plt\n"
      ]
    },
    {
      "cell_type": "markdown",
      "metadata": {
        "collapsed": true,
        "id": "OiPheAcbcPzY"
      },
      "source": [
        "#### Import the data\n",
        "Here, we're using a dataset with two columns containing the amount of hours studied and the test scores students achieved, respectively."
      ]
    },
    {
      "cell_type": "code",
      "execution_count": null,
      "metadata": {
        "colab": {
          "base_uri": "https://localhost:8080/",
          "height": 424
        },
        "id": "JK7qQZUxIoTh",
        "outputId": "276b7ede-fdc3-45d6-a01d-108736393c31"
      },
      "outputs": [
        {
          "output_type": "execute_result",
          "data": {
            "text/plain": [
              "    study_Hours  Test_scores\n",
              "0     53.426804    68.777596\n",
              "1     61.530358    62.562382\n",
              "2     47.475640    71.546632\n",
              "3     59.813208    87.230925\n",
              "4     55.142188    78.211518\n",
              "..          ...          ...\n",
              "94    50.030174    81.536991\n",
              "95    49.239765    72.111832\n",
              "96    50.039576    85.232007\n",
              "97    48.149859    66.224958\n",
              "98    25.128485    53.454394\n",
              "\n",
              "[99 rows x 2 columns]"
            ],
            "text/html": [
              "\n",
              "  <div id=\"df-b288053f-249c-44bc-9e08-1e6f95086b57\" class=\"colab-df-container\">\n",
              "    <div>\n",
              "<style scoped>\n",
              "    .dataframe tbody tr th:only-of-type {\n",
              "        vertical-align: middle;\n",
              "    }\n",
              "\n",
              "    .dataframe tbody tr th {\n",
              "        vertical-align: top;\n",
              "    }\n",
              "\n",
              "    .dataframe thead th {\n",
              "        text-align: right;\n",
              "    }\n",
              "</style>\n",
              "<table border=\"1\" class=\"dataframe\">\n",
              "  <thead>\n",
              "    <tr style=\"text-align: right;\">\n",
              "      <th></th>\n",
              "      <th>study_Hours</th>\n",
              "      <th>Test_scores</th>\n",
              "    </tr>\n",
              "  </thead>\n",
              "  <tbody>\n",
              "    <tr>\n",
              "      <th>0</th>\n",
              "      <td>53.426804</td>\n",
              "      <td>68.777596</td>\n",
              "    </tr>\n",
              "    <tr>\n",
              "      <th>1</th>\n",
              "      <td>61.530358</td>\n",
              "      <td>62.562382</td>\n",
              "    </tr>\n",
              "    <tr>\n",
              "      <th>2</th>\n",
              "      <td>47.475640</td>\n",
              "      <td>71.546632</td>\n",
              "    </tr>\n",
              "    <tr>\n",
              "      <th>3</th>\n",
              "      <td>59.813208</td>\n",
              "      <td>87.230925</td>\n",
              "    </tr>\n",
              "    <tr>\n",
              "      <th>4</th>\n",
              "      <td>55.142188</td>\n",
              "      <td>78.211518</td>\n",
              "    </tr>\n",
              "    <tr>\n",
              "      <th>...</th>\n",
              "      <td>...</td>\n",
              "      <td>...</td>\n",
              "    </tr>\n",
              "    <tr>\n",
              "      <th>94</th>\n",
              "      <td>50.030174</td>\n",
              "      <td>81.536991</td>\n",
              "    </tr>\n",
              "    <tr>\n",
              "      <th>95</th>\n",
              "      <td>49.239765</td>\n",
              "      <td>72.111832</td>\n",
              "    </tr>\n",
              "    <tr>\n",
              "      <th>96</th>\n",
              "      <td>50.039576</td>\n",
              "      <td>85.232007</td>\n",
              "    </tr>\n",
              "    <tr>\n",
              "      <th>97</th>\n",
              "      <td>48.149859</td>\n",
              "      <td>66.224958</td>\n",
              "    </tr>\n",
              "    <tr>\n",
              "      <th>98</th>\n",
              "      <td>25.128485</td>\n",
              "      <td>53.454394</td>\n",
              "    </tr>\n",
              "  </tbody>\n",
              "</table>\n",
              "<p>99 rows × 2 columns</p>\n",
              "</div>\n",
              "    <div class=\"colab-df-buttons\">\n",
              "\n",
              "  <div class=\"colab-df-container\">\n",
              "    <button class=\"colab-df-convert\" onclick=\"convertToInteractive('df-b288053f-249c-44bc-9e08-1e6f95086b57')\"\n",
              "            title=\"Convert this dataframe to an interactive table.\"\n",
              "            style=\"display:none;\">\n",
              "\n",
              "  <svg xmlns=\"http://www.w3.org/2000/svg\" height=\"24px\" viewBox=\"0 -960 960 960\">\n",
              "    <path d=\"M120-120v-720h720v720H120Zm60-500h600v-160H180v160Zm220 220h160v-160H400v160Zm0 220h160v-160H400v160ZM180-400h160v-160H180v160Zm440 0h160v-160H620v160ZM180-180h160v-160H180v160Zm440 0h160v-160H620v160Z\"/>\n",
              "  </svg>\n",
              "    </button>\n",
              "\n",
              "  <style>\n",
              "    .colab-df-container {\n",
              "      display:flex;\n",
              "      gap: 12px;\n",
              "    }\n",
              "\n",
              "    .colab-df-convert {\n",
              "      background-color: #E8F0FE;\n",
              "      border: none;\n",
              "      border-radius: 50%;\n",
              "      cursor: pointer;\n",
              "      display: none;\n",
              "      fill: #1967D2;\n",
              "      height: 32px;\n",
              "      padding: 0 0 0 0;\n",
              "      width: 32px;\n",
              "    }\n",
              "\n",
              "    .colab-df-convert:hover {\n",
              "      background-color: #E2EBFA;\n",
              "      box-shadow: 0px 1px 2px rgba(60, 64, 67, 0.3), 0px 1px 3px 1px rgba(60, 64, 67, 0.15);\n",
              "      fill: #174EA6;\n",
              "    }\n",
              "\n",
              "    .colab-df-buttons div {\n",
              "      margin-bottom: 4px;\n",
              "    }\n",
              "\n",
              "    [theme=dark] .colab-df-convert {\n",
              "      background-color: #3B4455;\n",
              "      fill: #D2E3FC;\n",
              "    }\n",
              "\n",
              "    [theme=dark] .colab-df-convert:hover {\n",
              "      background-color: #434B5C;\n",
              "      box-shadow: 0px 1px 3px 1px rgba(0, 0, 0, 0.15);\n",
              "      filter: drop-shadow(0px 1px 2px rgba(0, 0, 0, 0.3));\n",
              "      fill: #FFFFFF;\n",
              "    }\n",
              "  </style>\n",
              "\n",
              "    <script>\n",
              "      const buttonEl =\n",
              "        document.querySelector('#df-b288053f-249c-44bc-9e08-1e6f95086b57 button.colab-df-convert');\n",
              "      buttonEl.style.display =\n",
              "        google.colab.kernel.accessAllowed ? 'block' : 'none';\n",
              "\n",
              "      async function convertToInteractive(key) {\n",
              "        const element = document.querySelector('#df-b288053f-249c-44bc-9e08-1e6f95086b57');\n",
              "        const dataTable =\n",
              "          await google.colab.kernel.invokeFunction('convertToInteractive',\n",
              "                                                    [key], {});\n",
              "        if (!dataTable) return;\n",
              "\n",
              "        const docLinkHtml = 'Like what you see? Visit the ' +\n",
              "          '<a target=\"_blank\" href=https://colab.research.google.com/notebooks/data_table.ipynb>data table notebook</a>'\n",
              "          + ' to learn more about interactive tables.';\n",
              "        element.innerHTML = '';\n",
              "        dataTable['output_type'] = 'display_data';\n",
              "        await google.colab.output.renderOutput(dataTable, element);\n",
              "        const docLink = document.createElement('div');\n",
              "        docLink.innerHTML = docLinkHtml;\n",
              "        element.appendChild(docLink);\n",
              "      }\n",
              "    </script>\n",
              "  </div>\n",
              "\n",
              "\n",
              "<div id=\"df-e5a3159e-b56c-4450-b736-6e6ca05b1966\">\n",
              "  <button class=\"colab-df-quickchart\" onclick=\"quickchart('df-e5a3159e-b56c-4450-b736-6e6ca05b1966')\"\n",
              "            title=\"Suggest charts\"\n",
              "            style=\"display:none;\">\n",
              "\n",
              "<svg xmlns=\"http://www.w3.org/2000/svg\" height=\"24px\"viewBox=\"0 0 24 24\"\n",
              "     width=\"24px\">\n",
              "    <g>\n",
              "        <path d=\"M19 3H5c-1.1 0-2 .9-2 2v14c0 1.1.9 2 2 2h14c1.1 0 2-.9 2-2V5c0-1.1-.9-2-2-2zM9 17H7v-7h2v7zm4 0h-2V7h2v10zm4 0h-2v-4h2v4z\"/>\n",
              "    </g>\n",
              "</svg>\n",
              "  </button>\n",
              "\n",
              "<style>\n",
              "  .colab-df-quickchart {\n",
              "      --bg-color: #E8F0FE;\n",
              "      --fill-color: #1967D2;\n",
              "      --hover-bg-color: #E2EBFA;\n",
              "      --hover-fill-color: #174EA6;\n",
              "      --disabled-fill-color: #AAA;\n",
              "      --disabled-bg-color: #DDD;\n",
              "  }\n",
              "\n",
              "  [theme=dark] .colab-df-quickchart {\n",
              "      --bg-color: #3B4455;\n",
              "      --fill-color: #D2E3FC;\n",
              "      --hover-bg-color: #434B5C;\n",
              "      --hover-fill-color: #FFFFFF;\n",
              "      --disabled-bg-color: #3B4455;\n",
              "      --disabled-fill-color: #666;\n",
              "  }\n",
              "\n",
              "  .colab-df-quickchart {\n",
              "    background-color: var(--bg-color);\n",
              "    border: none;\n",
              "    border-radius: 50%;\n",
              "    cursor: pointer;\n",
              "    display: none;\n",
              "    fill: var(--fill-color);\n",
              "    height: 32px;\n",
              "    padding: 0;\n",
              "    width: 32px;\n",
              "  }\n",
              "\n",
              "  .colab-df-quickchart:hover {\n",
              "    background-color: var(--hover-bg-color);\n",
              "    box-shadow: 0 1px 2px rgba(60, 64, 67, 0.3), 0 1px 3px 1px rgba(60, 64, 67, 0.15);\n",
              "    fill: var(--button-hover-fill-color);\n",
              "  }\n",
              "\n",
              "  .colab-df-quickchart-complete:disabled,\n",
              "  .colab-df-quickchart-complete:disabled:hover {\n",
              "    background-color: var(--disabled-bg-color);\n",
              "    fill: var(--disabled-fill-color);\n",
              "    box-shadow: none;\n",
              "  }\n",
              "\n",
              "  .colab-df-spinner {\n",
              "    border: 2px solid var(--fill-color);\n",
              "    border-color: transparent;\n",
              "    border-bottom-color: var(--fill-color);\n",
              "    animation:\n",
              "      spin 1s steps(1) infinite;\n",
              "  }\n",
              "\n",
              "  @keyframes spin {\n",
              "    0% {\n",
              "      border-color: transparent;\n",
              "      border-bottom-color: var(--fill-color);\n",
              "      border-left-color: var(--fill-color);\n",
              "    }\n",
              "    20% {\n",
              "      border-color: transparent;\n",
              "      border-left-color: var(--fill-color);\n",
              "      border-top-color: var(--fill-color);\n",
              "    }\n",
              "    30% {\n",
              "      border-color: transparent;\n",
              "      border-left-color: var(--fill-color);\n",
              "      border-top-color: var(--fill-color);\n",
              "      border-right-color: var(--fill-color);\n",
              "    }\n",
              "    40% {\n",
              "      border-color: transparent;\n",
              "      border-right-color: var(--fill-color);\n",
              "      border-top-color: var(--fill-color);\n",
              "    }\n",
              "    60% {\n",
              "      border-color: transparent;\n",
              "      border-right-color: var(--fill-color);\n",
              "    }\n",
              "    80% {\n",
              "      border-color: transparent;\n",
              "      border-right-color: var(--fill-color);\n",
              "      border-bottom-color: var(--fill-color);\n",
              "    }\n",
              "    90% {\n",
              "      border-color: transparent;\n",
              "      border-bottom-color: var(--fill-color);\n",
              "    }\n",
              "  }\n",
              "</style>\n",
              "\n",
              "  <script>\n",
              "    async function quickchart(key) {\n",
              "      const quickchartButtonEl =\n",
              "        document.querySelector('#' + key + ' button');\n",
              "      quickchartButtonEl.disabled = true;  // To prevent multiple clicks.\n",
              "      quickchartButtonEl.classList.add('colab-df-spinner');\n",
              "      try {\n",
              "        const charts = await google.colab.kernel.invokeFunction(\n",
              "            'suggestCharts', [key], {});\n",
              "      } catch (error) {\n",
              "        console.error('Error during call to suggestCharts:', error);\n",
              "      }\n",
              "      quickchartButtonEl.classList.remove('colab-df-spinner');\n",
              "      quickchartButtonEl.classList.add('colab-df-quickchart-complete');\n",
              "    }\n",
              "    (() => {\n",
              "      let quickchartButtonEl =\n",
              "        document.querySelector('#df-e5a3159e-b56c-4450-b736-6e6ca05b1966 button');\n",
              "      quickchartButtonEl.style.display =\n",
              "        google.colab.kernel.accessAllowed ? 'block' : 'none';\n",
              "    })();\n",
              "  </script>\n",
              "</div>\n",
              "\n",
              "  <div id=\"id_369bd5c3-813c-4572-8204-dfc8cab57fda\">\n",
              "    <style>\n",
              "      .colab-df-generate {\n",
              "        background-color: #E8F0FE;\n",
              "        border: none;\n",
              "        border-radius: 50%;\n",
              "        cursor: pointer;\n",
              "        display: none;\n",
              "        fill: #1967D2;\n",
              "        height: 32px;\n",
              "        padding: 0 0 0 0;\n",
              "        width: 32px;\n",
              "      }\n",
              "\n",
              "      .colab-df-generate:hover {\n",
              "        background-color: #E2EBFA;\n",
              "        box-shadow: 0px 1px 2px rgba(60, 64, 67, 0.3), 0px 1px 3px 1px rgba(60, 64, 67, 0.15);\n",
              "        fill: #174EA6;\n",
              "      }\n",
              "\n",
              "      [theme=dark] .colab-df-generate {\n",
              "        background-color: #3B4455;\n",
              "        fill: #D2E3FC;\n",
              "      }\n",
              "\n",
              "      [theme=dark] .colab-df-generate:hover {\n",
              "        background-color: #434B5C;\n",
              "        box-shadow: 0px 1px 3px 1px rgba(0, 0, 0, 0.15);\n",
              "        filter: drop-shadow(0px 1px 2px rgba(0, 0, 0, 0.3));\n",
              "        fill: #FFFFFF;\n",
              "      }\n",
              "    </style>\n",
              "    <button class=\"colab-df-generate\" onclick=\"generateWithVariable('points')\"\n",
              "            title=\"Generate code using this dataframe.\"\n",
              "            style=\"display:none;\">\n",
              "\n",
              "  <svg xmlns=\"http://www.w3.org/2000/svg\" height=\"24px\"viewBox=\"0 0 24 24\"\n",
              "       width=\"24px\">\n",
              "    <path d=\"M7,19H8.4L18.45,9,17,7.55,7,17.6ZM5,21V16.75L18.45,3.32a2,2,0,0,1,2.83,0l1.4,1.43a1.91,1.91,0,0,1,.58,1.4,1.91,1.91,0,0,1-.58,1.4L9.25,21ZM18.45,9,17,7.55Zm-12,3A5.31,5.31,0,0,0,4.9,8.1,5.31,5.31,0,0,0,1,6.5,5.31,5.31,0,0,0,4.9,4.9,5.31,5.31,0,0,0,6.5,1,5.31,5.31,0,0,0,8.1,4.9,5.31,5.31,0,0,0,12,6.5,5.46,5.46,0,0,0,6.5,12Z\"/>\n",
              "  </svg>\n",
              "    </button>\n",
              "    <script>\n",
              "      (() => {\n",
              "      const buttonEl =\n",
              "        document.querySelector('#id_369bd5c3-813c-4572-8204-dfc8cab57fda button.colab-df-generate');\n",
              "      buttonEl.style.display =\n",
              "        google.colab.kernel.accessAllowed ? 'block' : 'none';\n",
              "\n",
              "      buttonEl.onclick = () => {\n",
              "        google.colab.notebook.generateWithVariable('points');\n",
              "      }\n",
              "      })();\n",
              "    </script>\n",
              "  </div>\n",
              "\n",
              "    </div>\n",
              "  </div>\n"
            ],
            "application/vnd.google.colaboratory.intrinsic+json": {
              "type": "dataframe",
              "variable_name": "points",
              "summary": "{\n  \"name\": \"points\",\n  \"rows\": 99,\n  \"fields\": [\n    {\n      \"column\": \"study_Hours\",\n      \"properties\": {\n        \"dtype\": \"number\",\n        \"std\": 9.652462876808928,\n        \"min\": 25.12848465,\n        \"max\": 70.34607562,\n        \"num_unique_values\": 99,\n        \"samples\": [\n          50.13548549,\n          43.31828263,\n          49.23976534\n        ],\n        \"semantic_type\": \"\",\n        \"description\": \"\"\n      }\n    },\n    {\n      \"column\": \"Test_scores\",\n      \"properties\": {\n        \"dtype\": \"number\",\n        \"std\": 16.216558070512033,\n        \"min\": 41.4128853,\n        \"max\": 118.5912173,\n        \"num_unique_values\": 99,\n        \"samples\": [\n          59.10883927,\n          58.56982472,\n          72.11183247\n        ],\n        \"semantic_type\": \"\",\n        \"description\": \"\"\n      }\n    }\n  ]\n}"
            }
          },
          "metadata": {},
          "execution_count": 4
        }
      ],
      "source": [
        "points = pd.read_csv(\"/content/session_1_ML_data_Linear_regression.csv\")\n",
        "\n",
        "points"
      ]
    },
    {
      "cell_type": "code",
      "execution_count": null,
      "metadata": {
        "id": "MLX-eoGMIulw"
      },
      "outputs": [],
      "source": [
        "#Extract columns\n",
        "x = points['study_Hours']\n",
        "y = points['Test_scores']"
      ]
    },
    {
      "cell_type": "code",
      "execution_count": null,
      "metadata": {
        "colab": {
          "base_uri": "https://localhost:8080/",
          "height": 451
        },
        "id": "DjV3TfX3cPza",
        "outputId": "0b9026d8-da44-4b56-97bf-4d87e80e6f63"
      },
      "outputs": [
        {
          "output_type": "display_data",
          "data": {
            "text/plain": [
              "<Figure size 960x480 with 1 Axes>"
            ],
            "image/png": "[encoded data removed]"
          },
          "metadata": {}
        }
      ],
      "source": [
        "#Plot the dataset\n",
        "plt.figure(figsize=(12, 6), dpi=80)\n",
        "\n",
        "plt.scatter(x,y)\n",
        "plt.xlabel('Hours of study')\n",
        "plt.ylabel('Test scores')\n",
        "plt.title('Dataset')\n",
        "\n",
        "plt.show( )\n"
      ]
    },
    {
      "cell_type": "markdown",
      "metadata": {
        "id": "-EU1SMJ7cPzf"
      },
      "source": [
        "#### Define cost function"
      ]
    },
    {
      "cell_type": "code",
      "execution_count": null,
      "metadata": {
        "collapsed": true,
        "id": "40-LHeJDcPzh"
      },
      "outputs": [],
      "source": [
        "def compute_cost_fun(a_0, a_1, points):\n",
        "    total_cost = 0\n",
        "    N = float(len(points))\n",
        "\n",
        "    #Compute sum of squared errors\n",
        "    for i in range(0, len(points)):\n",
        "        x = points['study_Hours'][i]\n",
        "        y = points['Test_scores'][i]\n",
        "        total_cost += (y - (a_1 * x + a_0)) ** 2   #MSE\n",
        "\n",
        "    #Return average of squared error\n",
        "    return total_cost/N\n",
        "\n",
        "\n",
        "#         total_cost += (y - (m * x + b)) ** 2   #MSE\n"
      ]
    },
    {
      "cell_type": "markdown",
      "metadata": {
        "id": "GEERP6zpcPzi"
      },
      "source": [
        "#### Define Gradient Descent functions"
      ]
    },
    {
      "cell_type": "code",
      "execution_count": null,
      "metadata": {
        "id": "9U2mto2ncPzk"
      },
      "outputs": [],
      "source": [
        "def step_gradient(a_0_current, a_1_current, points, learning_rate):\n",
        "    a_1_gradient = 0\n",
        "    a_0_gradient = 0\n",
        "    N = float(len(points))\n",
        "\n",
        "    #Calculate Gradient\n",
        "    for i in range(0, len(points)):\n",
        "        x = points[i, 0]\n",
        "        y = points[i, 1]\n",
        "        a_1_gradient += - (2/N) * x * (y - (a_1_current * x + a_0_current))\n",
        "        a_0_gradient += - (2/N) * (y - (a_1_current * x + a_0_current))\n",
        "\n",
        "    #Update current a_1 and a_0\n",
        "    a_1_updated = a_1_current - learning_rate * a_1_gradient\n",
        "    a_0_updated = a_0_current - learning_rate * a_0_gradient\n",
        "\n",
        "    #Return updated paraa_1eters\n",
        "    return a_0_updated, a_1_updated\n",
        "\n",
        "\n",
        "def gradient_descent_runner(points, starting_a_0, starting_a_1, learning_rate, num_iterations):\n",
        "    a_0 = starting_a_0\n",
        "    a_1 = starting_a_1\n",
        "    cost_graph = []\n",
        "\n",
        "    global a_0_values,a_1_values\n",
        "    a_0_values,a_1_values=[],[]\n",
        "\n",
        "    #For every iteration, optimize a_0, a_1 and compute its cost\n",
        "    for i in range(num_iterations):\n",
        "        cost_graph.append(compute_cost_fun(a_0, a_1, points))\n",
        "        a_0, a_1 = step_gradient(a_0, a_1, np.array(points), learning_rate)\n",
        "\n",
        "        a_0_values.append(a_0)\n",
        "        a_1_values.append(a_1)\n",
        "\n",
        "    return [a_0, a_1, cost_graph]\n",
        "# np.array(points)"
      ]
    },
    {
      "cell_type": "code",
      "execution_count": null,
      "metadata": {
        "id": "zqibq5fvEBo8"
      },
      "outputs": [],
      "source": []
    },
    {
      "cell_type": "markdown",
      "metadata": {
        "id": "7B79nI-QcPzd"
      },
      "source": [
        "#### Defining the hyperparamters"
      ]
    },
    {
      "cell_type": "code",
      "execution_count": null,
      "metadata": {
        "collapsed": true,
        "id": "hAccWDh0cPze"
      },
      "outputs": [],
      "source": [
        "#hyperparamters\n",
        "learning_rate = 0.0001\n",
        "initial_a_0 = 0\n",
        "initial_a_1 = 0\n",
        "num_iterations = 10"
      ]
    },
    {
      "cell_type": "markdown",
      "metadata": {
        "id": "xjF1nJ4BcPzl"
      },
      "source": [
        "#### Run gradient_descent_runner() to get optia_1ized parameters a_0 and a_1"
      ]
    },
    {
      "cell_type": "code",
      "execution_count": null,
      "metadata": {
        "colab": {
          "base_uri": "https://localhost:8080/"
        },
        "id": "CB1THtrkcPzm",
        "outputId": "db1be80f-45d5-44ba-85c1-f6940d29b66f"
      },
      "outputs": [
        {
          "output_type": "stream",
          "name": "stdout",
          "text": [
            "Optimized a_0: 0.02973927502614487\n",
            "Optimized a_1: 1.4796456270098886\n",
            "Minimized cost: 111.06788810058573\n"
          ]
        }
      ],
      "source": [
        "a_0, a_1, cost_graph = gradient_descent_runner(points, initial_a_0, initial_a_1, learning_rate, num_iterations)\n",
        "\n",
        "#Print optimized parameters\n",
        "print ('Optimized a_0:', a_0)\n",
        "print ('Optimized a_1:', a_1)\n",
        "\n",
        "#Print error with optimized parameters\n",
        "print ('Minimized cost:', compute_cost_fun(a_0, a_1, points))"
      ]
    },
    {
      "cell_type": "markdown",
      "metadata": {
        "id": "ImPXe5hJcPzn"
      },
      "source": [
        "#### Plotting the cost per iterations"
      ]
    },
    {
      "cell_type": "code",
      "execution_count": null,
      "metadata": {
        "colab": {
          "base_uri": "https://localhost:8080/",
          "height": 451
        },
        "id": "AzjjV0pwcPzo",
        "outputId": "6c737149-9660-41ea-8a36-36a5a36412f7",
        "scrolled": true
      },
      "outputs": [
        {
          "output_type": "display_data",
          "data": {
            "text/plain": [
              "<Figure size 800x480 with 1 Axes>"
            ],
            "image/png": "[encoded data removed]"
          },
          "metadata": {}
        }
      ],
      "source": [
        "plt.figure(figsize=(10, 6), dpi=80)\n",
        "\n",
        "plt.plot(cost_graph)\n",
        "plt.xlabel('No. of iterations')\n",
        "plt.ylabel('Cost')\n",
        "plt.title('Cost per iteration')\n",
        "plt.show()"
      ]
    },
    {
      "cell_type": "markdown",
      "metadata": {
        "id": "e7OIMV2OcPzp"
      },
      "source": [
        "Gradient descent converges to local minimum after 5 iterations"
      ]
    },
    {
      "cell_type": "markdown",
      "metadata": {
        "id": "Mge2HWPRcPzp"
      },
      "source": [
        "#### Plot line of best fit"
      ]
    },
    {
      "cell_type": "code",
      "execution_count": null,
      "metadata": {
        "colab": {
          "base_uri": "https://localhost:8080/",
          "height": 451
        },
        "id": "1JqrTWq_cPzq",
        "outputId": "6757d4fd-418e-4ac6-fa0c-cde89314488c"
      },
      "outputs": [
        {
          "output_type": "display_data",
          "data": {
            "text/plain": [
              "<Figure size 960x480 with 1 Axes>"
            ],
            "image/png": "[encoded data removed]"
          },
          "metadata": {}
        }
      ],
      "source": [
        "#Plot dataset\n",
        "plt.figure(figsize=(12, 6), dpi=80)\n",
        "\n",
        "plt.scatter(x, y)\n",
        "#Predict y values\n",
        "pred = a_1 * x + a_0\n",
        "#Plot predictions as line of best fit\n",
        "# plt.figure(figsize=(10, 6), dpi=80)\n",
        "\n",
        "plt.plot(x, pred, c='r')\n",
        "plt.xlabel('Hours of study')\n",
        "plt.ylabel('Test scores')\n",
        "plt.title('Line of best fit')\n",
        "plt.show()"
      ]
    },
    {
      "cell_type": "code",
      "execution_count": null,
      "metadata": {
        "colab": {
          "base_uri": "https://localhost:8080/",
          "height": 451
        },
        "id": "Tnz-PiCjEBpF",
        "outputId": "f4d72484-e9c8-4f56-b078-0117bfbf6262"
      },
      "outputs": [
        {
          "output_type": "display_data",
          "data": {
            "text/plain": [
              "<Figure size 960x480 with 1 Axes>"
            ],
            "image/png": "[encoded data removed]"
          },
          "metadata": {}
        }
      ],
      "source": [
        "#Plot dataset\n",
        "plt.figure(figsize=(12, 6), dpi=80)\n",
        "plt.scatter(x, y)\n",
        "plt.xlabel('Hours of study')\n",
        "plt.ylabel('Test scores')\n",
        "\n",
        "for w,b in zip(a_0_values,a_1_values):\n",
        "    pred = b*x + w\n",
        "    plt.plot(x,pred,c=\"r\",linestyle=\"dashed\")\n",
        "\n",
        "y_pred = a_1 * x + a_0\n",
        "plt.plot(x,y_pred,c=\"black\")\n",
        "plt.title('Line of best fit')\n",
        "plt.show()"
      ]
    },
    {
      "cell_type": "code",
      "source": [],
      "metadata": {
        "id": "NdVYeohrEfhN"
      },
      "execution_count": null,
      "outputs": []
    }
  ],
  "metadata": {
    "colab": {
      "provenance": []
    },
    "kernelspec": {
      "display_name": "Python 3",
      "language": "python",
      "name": "python3"
    },
    "language_info": {
      "codemirror_mode": {
        "name": "ipython",
        "version": 3
      },
      "file_extension": ".py",
      "mimetype": "text/x-python",
      "name": "python",
      "nbconvert_exporter": "python",
      "pygments_lexer": "ipython3",
      "version": "3.11.2"
    }
  },
  "nbformat": 4,
  "nbformat_minor": 0
}